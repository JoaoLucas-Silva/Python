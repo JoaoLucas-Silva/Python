version https://git-lfs.github.com/spec/v1
oid sha256:fd8b3ebed3c1cbdb55d72f322b9b848dc234b832eed323b6ec80d7bb00b793e9
size 162120135
